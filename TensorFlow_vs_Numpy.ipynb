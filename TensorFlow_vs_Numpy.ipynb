{
 "cells": [
  {
   "cell_type": "code",
   "execution_count": 2,
   "metadata": {},
   "outputs": [],
   "source": [
    "import numpy as np\n",
    "import tensorflow as tf\n",
    "import timeit\n",
    "\n",
    "\n",
    "import matplotlib.pyplot as plt\n",
    "\n",
    "%matplotlib inline"
   ]
  },
  {
   "cell_type": "code",
   "execution_count": 5,
   "metadata": {},
   "outputs": [],
   "source": [
    "np.random.seed(21)\n",
    "num_repeats = 20\n",
    "min_size = 500\n",
    "max_size = 5001\n",
    "step = 500"
   ]
  },
  {
   "cell_type": "code",
   "execution_count": 10,
   "metadata": {
    "collapsed": true
   },
   "outputs": [],
   "source": [
    "def benchmark_numpy():\n",
    "    times = []\n",
    "    print(\"Benchmarking Numpy \" + str(np.__version__))\n",
    "\n",
    "    for i in range(min_size, max_size, step):\n",
    "        print(i)\n",
    "        global A, B\n",
    "        A = np.random.rand(i, i).astype(np.float32)\n",
    "        B = np.random.rand(i, i).astype(np.float32)\n",
    "\n",
    "        current_times = [i]\n",
    "\n",
    "        timer = timeit.Timer(\"numpy.dot(A, B)\", \"import numpy; from __main__ import A, B\")\n",
    "        current_times.append(np.min(timer.repeat(num_repeats, 1)))\n",
    "\n",
    "        timer = timeit.Timer(\"numpy.exp(A)\", \"import numpy; from __main__ import A\")\n",
    "        current_times.append(np.min(timer.repeat(num_repeats, 1)))\n",
    "\n",
    "        timer = timeit.Timer(\"numpy.sum(A)\", \"import numpy; from __main__ import A\")\n",
    "        current_times.append(np.min(timer.repeat(num_repeats, 1)))\n",
    "\n",
    "        timer = timeit.Timer(\"A + B\", \"import numpy; from __main__ import A, B\")\n",
    "        current_times.append(np.min(timer.repeat(num_repeats, 1)))\n",
    "\n",
    "        timer = timeit.Timer(\"numpy.mean(A)\", \"import numpy; from __main__ import A\")\n",
    "        current_times.append(np.min(timer.repeat(num_repeats, 1)))\n",
    "\n",
    "        timer = timeit.Timer(\"numpy.min(A)\", \"import numpy; from __main__ import A\")\n",
    "        current_times.append(np.min(timer.repeat(num_repeats, 1)))\n",
    "\n",
    "        times.append(current_times)\n",
    "\n",
    "    times = np.array(times)\n",
    "    return times"
   ]
  },
  {
   "cell_type": "code",
   "execution_count": 11,
   "metadata": {},
   "outputs": [
    {
     "name": "stdout",
     "output_type": "stream",
     "text": [
      "Benchmarking Numpy 1.12.1\n",
      "500\n",
      "1000\n",
      "1500\n",
      "2000\n",
      "2500\n",
      "3000\n",
      "3500\n",
      "4000\n",
      "4500\n",
      "5000\n"
     ]
    }
   ],
   "source": [
    "np_times = benchmark_numpy()"
   ]
  },
  {
   "cell_type": "code",
   "execution_count": 21,
   "metadata": {},
   "outputs": [
    {
     "data": {
      "text/plain": [
       "[<matplotlib.lines.Line2D at 0x118f79f50>]"
      ]
     },
     "execution_count": 21,
     "metadata": {},
     "output_type": "execute_result"
    },
    {
     "data": {
      "image/png": "[encoded data removed]",
      "text/plain": [
       "<matplotlib.figure.Figure at 0x118e80050>"
      ]
     },
     "metadata": {},
     "output_type": "display_data"
    }
   ],
   "source": [
    "plt.plot(np_times[:,0],np_times[:,1])"
   ]
  },
  {
   "cell_type": "code",
   "execution_count": 24,
   "metadata": {
    "collapsed": true
   },
   "outputs": [],
   "source": [
    "def benchmark_tensorflow():\n",
    "    print(\"Benchmarking Tensorflow \" + str(tf.__version__))\n",
    "\n",
    "    times = []\n",
    "\n",
    "    for i in range(min_size, max_size, step):\n",
    "        print(i)\n",
    "        global A, B\n",
    "        A = np.random.rand(i, i).astype(np.float32)\n",
    "        B = np.random.rand(i, i).astype(np.float32)\n",
    "        current_times = [i]\n",
    "\n",
    "        global f\n",
    "        # Set up the tensorflow stuff\n",
    "        A = tf.constant(A)\n",
    "        B = tf.constant(B)\n",
    "        global sess, result\n",
    "\n",
    "        sess = tf.Session()\n",
    "        result = tf.matmul(A, B)\n",
    "        timer = timeit.Timer(\"sess.run(result)\", setup=\"import tensorflow; from __main__ import sess, A, B, result\")\n",
    "        current_times.append(np.min(timer.repeat(num_repeats, 1)))\n",
    "        sess.close()\n",
    "\n",
    "        sess = tf.Session()\n",
    "        result = tf.exp(A)\n",
    "        timer = timeit.Timer(\"sess.run(result)\", setup=\"import tensorflow; from __main__ import sess, A, B, result\")\n",
    "        current_times.append(np.min(timer.repeat(num_repeats, 1)))\n",
    "        sess.close()\n",
    "\n",
    "        sess = tf.Session()\n",
    "        result = tf.reduce_sum(A)\n",
    "        timer = timeit.Timer(\"sess.run(result)\", setup=\"import tensorflow; from __main__ import sess, A, B, result\")\n",
    "        current_times.append(np.min(timer.repeat(num_repeats, 1)))\n",
    "        sess.close()\n",
    "\n",
    "        sess = tf.Session()\n",
    "        result = tf.add(A, B)\n",
    "        timer = timeit.Timer(\"sess.run(result)\", setup=\"import tensorflow; from __main__ import sess, A, B, result\")\n",
    "        current_times.append(np.min(timer.repeat(num_repeats, 1)))\n",
    "        sess.close()\n",
    "\n",
    "        sess = tf.Session()\n",
    "        result = tf.reduce_mean(A)\n",
    "        timer = timeit.Timer(\"sess.run(result)\", setup=\"import tensorflow; from __main__ import sess, A, B, result\")\n",
    "        current_times.append(np.min(timer.repeat(num_repeats, 1)))\n",
    "        sess.close()\n",
    "\n",
    "        sess = tf.Session()\n",
    "        result = tf.reduce_min(A)\n",
    "        timer = timeit.Timer(\"sess.run(result)\", setup=\"import tensorflow; from __main__ import sess, A, B, result\")\n",
    "        current_times.append(np.min(timer.repeat(num_repeats, 1)))\n",
    "        sess.close()\n",
    "\n",
    "        times.append(current_times)\n",
    "\n",
    "    times = np.array(times)\n",
    "    \n",
    "    return times"
   ]
  },
  {
   "cell_type": "code",
   "execution_count": 25,
   "metadata": {},
   "outputs": [
    {
     "name": "stdout",
     "output_type": "stream",
     "text": [
      "Benchmarking Tensorflow 1.1.0\n",
      "500\n",
      "1000\n",
      "1500\n",
      "2000\n",
      "2500\n",
      "3000\n",
      "3500\n",
      "4000\n",
      "4500\n",
      "5000\n"
     ]
    }
   ],
   "source": [
    "tf_times = benchmark_tensorflow()"
   ]
  },
  {
   "cell_type": "code",
   "execution_count": 28,
   "metadata": {},
   "outputs": [
    {
     "data": {
      "text/plain": [
       "<matplotlib.legend.Legend at 0x119702e90>"
      ]
     },
     "execution_count": 28,
     "metadata": {},
     "output_type": "execute_result"
    },
    {
     "data": {
      "image/png": "[encoded data removed]",
      "text/plain": [
       "<matplotlib.figure.Figure at 0x1194f0a90>"
      ]
     },
     "metadata": {},
     "output_type": "display_data"
    }
   ],
   "source": [
    "plt.plot(np_times[:,0],np_times[:,1], label='Numpy Dot')\n",
    "plt.plot(tf_times[:,0],tf_times[:,1], label = ' TensorFlow MatMul')\n",
    "plt.legend()"
   ]
  },
  {
   "cell_type": "code",
   "execution_count": null,
   "metadata": {
    "collapsed": true
   },
   "outputs": [],
   "source": []
  }
 ],
 "metadata": {
  "kernelspec": {
   "display_name": "Python 2",
   "language": "python",
   "name": "python2"
  },
  "language_info": {
   "codemirror_mode": {
    "name": "ipython",
    "version": 2
   },
   "file_extension": ".py",
   "mimetype": "text/x-python",
   "name": "python",
   "nbconvert_exporter": "python",
   "pygments_lexer": "ipython2",
   "version": "2.7.10"
  }
 },
 "nbformat": 4,
 "nbformat_minor": 2
}
